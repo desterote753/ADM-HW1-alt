{
 "cells": [
  {
   "cell_type": "markdown",
   "metadata": {},
   "source": [
    "# Problem 1"
   ]
  },
  {
   "cell_type": "code",
   "execution_count": null,
   "metadata": {},
   "outputs": [],
   "source": [
    "# DefaultDict Tutorial\n",
    "from collections import defaultdict\n",
    "n, m = map(int,input().split())\n",
    "groupA = []\n",
    "mydd = defaultdict(list)\n",
    "for i in range(n):\n",
    "    s = input()\n",
    "    mydd[s].append(i+1)  \n",
    "for i in range(m):\n",
    "    s = input()\n",
    "    if s in mydd.keys():\n",
    "        print(*mydd[s])\n",
    "    else:\n",
    "        print(-1)"
   ]
  },
  {
   "cell_type": "code",
   "execution_count": null,
   "metadata": {},
   "outputs": [],
   "source": [
    "# collections.Counter()\n",
    "# Enter your code here. Read input from STDIN. Print output to STDOUT\n",
    "from collections import Counter\n",
    "X = int(input()) # number of shoes\n",
    "shoe_sizes = list(map(int,input().split()))\n",
    "# print(shoe_sizes)\n",
    "N = int(input()) # no. of customers\n",
    "sum = 0\n",
    "for _ in range(N):\n",
    "    shoe_size_desired, x_i = map(int,input().split())\n",
    "    # print(shoe_size_desired, x_i)\n",
    "    if shoe_size_desired in shoe_sizes:\n",
    "        sum = sum + x_i\n",
    "        shoe_sizes.remove(shoe_size_desired)\n",
    "    # print(shoe_size_desired, x_i)\n",
    "print(sum)\n"
   ]
  },
  {
   "cell_type": "code",
   "execution_count": null,
   "metadata": {},
   "outputs": [],
   "source": [
    "# No Idea!\n",
    "# Enter your code here. Read input from STDIN. Print output to STDOUT\n",
    "n, m = map(int, input().split())\n",
    "array1 = map(int,input().split())\n",
    "setA = set(map(int,input().split()))\n",
    "setB = set(map(int,input().split()))\n",
    "# print(array1)\n",
    "# print(setA)\n",
    "# print(setB)\n",
    "# print(counter(array1))\n",
    "\n",
    "sum = 0\n",
    "for a in array1:\n",
    "    if a in setA:\n",
    "        sum=sum+1\n",
    "    if a in setB:\n",
    "        sum=sum-1\n",
    "print(sum)\n"
   ]
  },
  {
   "cell_type": "code",
   "execution_count": null,
   "metadata": {},
   "outputs": [],
   "source": [
    "#Symmetric Difference\n",
    "# Enter your code here. Read input from STDIN. Print output to STDOUT\n",
    "N1 = int(input())\n",
    "set1 = set(map(int,input().split()))\n",
    "# print(set1)\n",
    "N2 = int(input())\n",
    "set2 = set(map(int,input().split()))\n",
    "# print(set2)\n",
    "res = set1.symmetric_difference(set2)\n",
    "# print(res)\n",
    "res = list(res)\n",
    "# print(res)\n",
    "res.sort()\n",
    "# print(res)\n",
    "\n",
    "for no in res:\n",
    "    print(no)\n"
   ]
  },
  {
   "cell_type": "code",
   "execution_count": null,
   "metadata": {},
   "outputs": [],
   "source": [
    "# Introduction to Sets\n",
    "def average(array):\n",
    "    # your code goes here\n",
    "    return sum(set(array))/len(set(array))\n",
    "\n"
   ]
  },
  {
   "cell_type": "code",
   "execution_count": null,
   "metadata": {},
   "outputs": [],
   "source": [
    "# Alphabet Rangoli\n",
    "def print_rangoli(size):\n",
    "    # your code goes here\n",
    "    abc = \"abcdefghijklmnopqrstuvwxyz\" \n",
    "    myli = []\n",
    "    \n",
    "    indices = list(range(size))\n",
    "    indices2 = list(range(size-1,0,-1))\n",
    "    indices2.extend(indices)\n",
    "    \n",
    "    for k in indices2:  \n",
    "        substr = abc[size-1:k:-1] + abc[k:size]\n",
    "        print('-'.join(substr).center(size*2-1+2*size-2,'-'))\n",
    "    \n",
    "\n"
   ]
  },
  {
   "cell_type": "code",
   "execution_count": null,
   "metadata": {},
   "outputs": [],
   "source": [
    "# String Formatting\n",
    "\n",
    "def print_formatted(number):\n",
    "    breite = len(\"{0:b}\".format(number))\n",
    "    for i in range(number):\n",
    "        res = []\n",
    "        for k in 'doXb':\n",
    "            sample = \"{0:{breite}\"+k+\"}\"\n",
    "            res.append(sample.format(i+1, breite=breite))    \n",
    "        print(*res)\n",
    "        \n"
   ]
  },
  {
   "cell_type": "code",
   "execution_count": null,
   "metadata": {},
   "outputs": [],
   "source": [
    "# Designer Door Mat\n",
    "# Enter your code here. Read input from STDIN. Print output to STDOUT\n",
    "N, M = map(int,input().split())\n",
    "\n",
    "summy = \".|.\"\n",
    "sample = \".|.\"\n",
    "for i in range(N//2):\n",
    "    print(summy.center(M,\"-\"))\n",
    "    summy = sample + summy + sample\n",
    "\n",
    "print(\"WELCOME\".center(M,'-'))\n",
    "\n",
    "# print(list(reversed(range(N//2+1,N))))\n",
    "listy = []\n",
    "summy = \".|.\"\n",
    "sample = \".|.\"\n",
    "for i in range(N//2):\n",
    "    listy.append(summy.center(M,'-'))\n",
    "    summy = sample + summy + sample\n",
    "for i in reversed(listy):\n",
    "    print(i)\n"
   ]
  },
  {
   "cell_type": "code",
   "execution_count": null,
   "metadata": {},
   "outputs": [],
   "source": [
    "# Text Wrap\n",
    "def wrap(string, max_width):\n",
    "    res = \"\"\n",
    "    for i in range(len(string)//max_width+1):\n",
    "        res = res + string[max_width*i:max_width*(i+1)]+\"\\n\"\n",
    "         \n",
    "    return res\n"
   ]
  },
  {
   "cell_type": "code",
   "execution_count": null,
   "metadata": {},
   "outputs": [],
   "source": [
    "# String Validators\n",
    "if __name__ == '__main__':\n",
    "    s = input()\n",
    "    isAlphanumeric = False\n",
    "    isAlphabetical = False\n",
    "    isDigit = False\n",
    "    isLower = False\n",
    "    isUpper = False\n",
    "    for letter in s:\n",
    "        isAlphanumeric = isAlphanumeric or letter.isalnum()\n",
    "        isAlphabetical = isAlphabetical or letter.isalpha()\n",
    "        isDigit = isDigit or letter.isdigit()\n",
    "        isLower = isLower or letter.islower()\n",
    "        isUpper = isUpper or letter.isupper()\n",
    "        \n",
    "    print(isAlphanumeric)\n",
    "    print(isAlphabetical)\n",
    "    print(isDigit)\n",
    "    print(isLower)\n",
    "    print(isUpper)\n",
    "    \n"
   ]
  },
  {
   "cell_type": "code",
   "execution_count": null,
   "metadata": {},
   "outputs": [],
   "source": [
    "# Find a string\n",
    "def count_substring(string, sub_string):\n",
    "    i = 0\n",
    "    sum = 0\n",
    "    condition = True\n",
    "    while(condition):\n",
    "        i = string.find(sub_string,i, len(string))\n",
    "        if i == -1:\n",
    "            condition = False\n",
    "        else:\n",
    "            if i == len(string)-1:\n",
    "                condition = False\n",
    "            i = i+1\n",
    "            sum = sum + 1\n",
    "        \n",
    "    # print(string)\n",
    "    # print(sub_string)\n",
    "    \n",
    "    return sum\n",
    "\n"
   ]
  },
  {
   "cell_type": "code",
   "execution_count": null,
   "metadata": {},
   "outputs": [],
   "source": [
    "# Mutations\n",
    "def mutate_string(string, position, character):\n",
    "    return string[:position] + character + string[position+1:]"
   ]
  },
  {
   "cell_type": "code",
   "execution_count": null,
   "metadata": {},
   "outputs": [],
   "source": [
    "# What's Your Name?\n",
    "#\n",
    "# Complete the 'print_full_name' function below.\n",
    "#\n",
    "# The function is expected to return a STRING.\n",
    "# The function accepts following parameters:\n",
    "#  1. STRING first\n",
    "#  2. STRING last\n",
    "#\n",
    "\n",
    "def print_full_name(first, last):\n",
    "    # Write your code here\n",
    "    print(\"Hello \" + first + \" \" + last +\"!\" + \" \" + \"You just delved into python.\")\n"
   ]
  },
  {
   "cell_type": "code",
   "execution_count": null,
   "metadata": {},
   "outputs": [],
   "source": [
    "# String Split and Join\n",
    "def split_and_join(line):\n",
    "    # write your code here\n",
    "    return \"-\".join(line.split())\n",
    "\n",
    "if __name__ == '__main__':\n",
    "    line = input()\n",
    "    result = split_and_join(line)\n",
    "    print(result)\n",
    "\n"
   ]
  },
  {
   "cell_type": "code",
   "execution_count": null,
   "metadata": {},
   "outputs": [],
   "source": [
    "# sWAP cASE\n",
    "def swap_case(s):\n",
    "    res = \"\"\n",
    "    for letter in s:\n",
    "        if letter.islower():\n",
    "            res = res + letter.upper()\n",
    "        else:\n",
    "            res = res + letter.lower()\n",
    "            \n",
    "    return res\n",
    "\n"
   ]
  },
  {
   "cell_type": "code",
   "execution_count": null,
   "metadata": {},
   "outputs": [],
   "source": [
    "# Tuples\n",
    "if __name__ == '__main__':\n",
    "    n = int(input())\n",
    "    integer_list = map(int, input().split())\n",
    "    # print(integer_list)    \n",
    "    \n",
    "    t = tuple(integer_list)\n",
    "    # print(t)\n",
    "    print(hash(t))"
   ]
  },
  {
   "cell_type": "code",
   "execution_count": null,
   "metadata": {},
   "outputs": [],
   "source": [
    "# Lists\n",
    "if __name__ == '__main__':\n",
    "    N = int(input())\n",
    "    command = None\n",
    "    values = None\n",
    "    data = []\n",
    "    \n",
    "    for _ in range(N):\n",
    "        command, *line = input().split()\n",
    "        values = list(map(int, line))\n",
    "        \n",
    "        if command == \"insert\":\n",
    "            data.insert(values[0],values[1])\n",
    "            continue\n",
    "        if command == \"print\":\n",
    "            print(data)\n",
    "        if command == \"remove\":\n",
    "            data.remove(values[0])\n",
    "            continue\n",
    "        if command == \"append\":\n",
    "            data.append(values[0])\n",
    "            continue\n",
    "        if command == \"sort\":\n",
    "            data = sorted(data)\n",
    "        if command == \"pop\":\n",
    "            data.pop()\n",
    "        if command == \"reverse\":\n",
    "            data = list(reversed(data))"
   ]
  },
  {
   "cell_type": "code",
   "execution_count": null,
   "metadata": {},
   "outputs": [],
   "source": [
    "# Finding the percentage\n",
    "if __name__ == '__main__':\n",
    "    n = int(input())\n",
    "    student_marks = {}\n",
    "    for _ in range(n):\n",
    "        name, *line = input().split()\n",
    "        scores = list(map(float, line))\n",
    "        student_marks[name] = scores\n",
    "    query_name = input()\n",
    "    # print(student_marks[query_name])\n",
    "    avg = round(sum(student_marks[query_name])/len(student_marks[query_name]),2)\n",
    "    print(\"{:.2f}\".format(avg))"
   ]
  },
  {
   "cell_type": "code",
   "execution_count": null,
   "metadata": {},
   "outputs": [],
   "source": [
    "# Nested Lists\n",
    "if __name__ == '__main__':\n",
    "    names = []\n",
    "    scores = []\n",
    "    for _ in range(int(input())):\n",
    "        name = input()\n",
    "        names.append(name)\n",
    "        score = float(input())\n",
    "        scores.append(score)\n",
    "    searched_score = sorted(list(set(scores)))[1]\n",
    "    data = list(zip(names,scores))\n",
    "    data = sorted(data,key=lambda x:x[0])\n",
    "    # print(data)\n",
    "    # print(searched_score)\n",
    "    \n",
    "    for name, score in data:\n",
    "        if score == searched_score:\n",
    "            print(name)"
   ]
  },
  {
   "cell_type": "code",
   "execution_count": null,
   "metadata": {},
   "outputs": [],
   "source": [
    "# Find the Runner-Up Score!\n",
    "if __name__ == '__main__':\n",
    "    n = int(input())\n",
    "    arr = map(int, input().split())\n",
    "    my_set = set(arr)\n",
    "    print(sorted(list(my_set))[-2])"
   ]
  },
  {
   "cell_type": "code",
   "execution_count": null,
   "metadata": {},
   "outputs": [],
   "source": [
    "# List Comprehensions\n",
    "if __name__ == '__main__':\n",
    "    x = int(input())\n",
    "    y = int(input())\n",
    "    z = int(input())\n",
    "    n = int(input())\n",
    "    \n",
    "    l = []\n",
    "    for i in range (x+1):\n",
    "        for j in range (y+1):\n",
    "            for k in range(z+1):\n",
    "                if i+j+k != n:\n",
    "                    l.append([i,j,k])\n",
    "    print(l)"
   ]
  },
  {
   "cell_type": "code",
   "execution_count": null,
   "metadata": {},
   "outputs": [],
   "source": [
    "# Print Function\n",
    "if __name__ == '__main__':\n",
    "    n = int(input())\n",
    "    l = list()\n",
    "    for k in range(n+1):\n",
    "        if (k==0):\n",
    "            continue\n",
    "        l.append(k)\n",
    "    print(*l, sep=\"\")\n",
    "        \n",
    "    \n"
   ]
  },
  {
   "cell_type": "code",
   "execution_count": null,
   "metadata": {},
   "outputs": [],
   "source": [
    "# Write a function\n",
    "def is_leap(year):\n",
    "    leap = False\n",
    "    if(year % 4 == 0 ):\n",
    "        leap = True\n",
    "        if (year % 100 == 0):\n",
    "            leap = False\n",
    "            if (year % 400 == 0):\n",
    "                leap = True\n",
    "            \n",
    "    # Write your logic here\n",
    "    \n",
    "    return leap"
   ]
  },
  {
   "cell_type": "code",
   "execution_count": null,
   "metadata": {},
   "outputs": [],
   "source": [
    "# Loops\n",
    "if __name__ == '__main__':\n",
    "    n = int(input())\n",
    "    for i in range(n):\n",
    "        print(i**2)\n"
   ]
  },
  {
   "cell_type": "code",
   "execution_count": null,
   "metadata": {},
   "outputs": [],
   "source": [
    "# Python: Division\n",
    "if __name__ == '__main__':\n",
    "    a = int(input())\n",
    "    b = int(input())\n",
    "    print(a//b)\n",
    "    print(a/b)\n"
   ]
  },
  {
   "cell_type": "code",
   "execution_count": null,
   "metadata": {},
   "outputs": [],
   "source": [
    "# Arithmetic Operators\n",
    "if __name__ == '__main__':\n",
    "    a = int(input())\n",
    "    b = int(input())\n",
    "    print(a+b)\n",
    "    print(a-b)\n",
    "    print(a*b)\n"
   ]
  },
  {
   "cell_type": "code",
   "execution_count": null,
   "metadata": {},
   "outputs": [],
   "source": [
    "# Say \"Hello, World!\" With Python\n",
    "if __name__ == '__main__':\n",
    "    print(\"Hello, World!\")\n"
   ]
  },
  {
   "cell_type": "code",
   "execution_count": null,
   "metadata": {},
   "outputs": [],
   "source": [
    "# Python If-Else\n",
    "#!/bin/python3\n",
    "\n",
    "import math\n",
    "import os\n",
    "import random\n",
    "import re\n",
    "import sys\n",
    "\n",
    "\n",
    "\n",
    "if __name__ == '__main__':\n",
    "    n = int(input().strip())\n",
    "    if n % 2 != 0:\n",
    "        print(\"Weird\")\n",
    "    if n % 2 == 0 and 2 <= n and n <= 5:\n",
    "        print(\"Not Weird\")\n",
    "    if n % 2 == 0 and 6 <= n and n <= 20:\n",
    "        print(\"Weird\")\n",
    "    if n % 2 == 0 and n > 20:\n",
    "        print(\"Not Weird\")"
   ]
  },
  {
   "cell_type": "code",
   "execution_count": null,
   "metadata": {},
   "outputs": [],
   "source": []
  },
  {
   "cell_type": "code",
   "execution_count": null,
   "metadata": {},
   "outputs": [],
   "source": []
  },
  {
   "cell_type": "code",
   "execution_count": null,
   "metadata": {},
   "outputs": [],
   "source": []
  }
 ],
 "metadata": {
  "language_info": {
   "name": "python"
  },
  "orig_nbformat": 4
 },
 "nbformat": 4,
 "nbformat_minor": 2
}
