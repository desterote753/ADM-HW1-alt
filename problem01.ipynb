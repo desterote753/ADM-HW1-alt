{
 "cells": [
  {
   "cell_type": "markdown",
   "metadata": {},
   "source": [
    "# Problem 1"
   ]
  },
  {
   "cell_type": "code",
   "execution_count": null,
   "metadata": {},
   "outputs": [],
   "source": [
    "# DefaultDict Tutorial\n",
    "from collections import defaultdict\n",
    "n, m = map(int,input().split())\n",
    "groupA = []\n",
    "mydd = defaultdict(list)\n",
    "for i in range(n):\n",
    "    s = input()\n",
    "    mydd[s].append(i+1)  \n",
    "for i in range(m):\n",
    "    s = input()\n",
    "    if s in mydd.keys():\n",
    "        print(*mydd[s])\n",
    "    else:\n",
    "        print(-1)"
   ]
  },
  {
   "cell_type": "code",
   "execution_count": null,
   "metadata": {},
   "outputs": [],
   "source": [
    "# collections.Counter()\n",
    "# Enter your code here. Read input from STDIN. Print output to STDOUT\n",
    "from collections import Counter\n",
    "X = int(input()) # number of shoes\n",
    "shoe_sizes = list(map(int,input().split()))\n",
    "# print(shoe_sizes)\n",
    "N = int(input()) # no. of customers\n",
    "sum = 0\n",
    "for _ in range(N):\n",
    "    shoe_size_desired, x_i = map(int,input().split())\n",
    "    # print(shoe_size_desired, x_i)\n",
    "    if shoe_size_desired in shoe_sizes:\n",
    "        sum = sum + x_i\n",
    "        shoe_sizes.remove(shoe_size_desired)\n",
    "    # print(shoe_size_desired, x_i)\n",
    "print(sum)"
   ]
  }
 ],
 "metadata": {
  "language_info": {
   "name": "python"
  },
  "orig_nbformat": 4
 },
 "nbformat": 4,
 "nbformat_minor": 2
}
