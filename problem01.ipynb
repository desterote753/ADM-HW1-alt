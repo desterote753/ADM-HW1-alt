{
 "cells": [
  {
   "cell_type": "markdown",
   "metadata": {},
   "source": [
    "# Problem 1"
   ]
  },
  {
   "cell_type": "code",
   "execution_count": null,
   "metadata": {},
   "outputs": [],
   "source": [
    "# DefaultDict Tutorial\n",
    "from collections import defaultdict\n",
    "n, m = map(int,input().split())\n",
    "groupA = []\n",
    "mydd = defaultdict(list)\n",
    "for i in range(n):\n",
    "    s = input()\n",
    "    mydd[s].append(i+1)  \n",
    "for i in range(m):\n",
    "    s = input()\n",
    "    if s in mydd.keys():\n",
    "        print(*mydd[s])\n",
    "    else:\n",
    "        print(-1)"
   ]
  },
  {
   "cell_type": "code",
   "execution_count": null,
   "metadata": {},
   "outputs": [],
   "source": [
    "# collections.Counter()\n",
    "# Enter your code here. Read input from STDIN. Print output to STDOUT\n",
    "from collections import Counter\n",
    "X = int(input()) # number of shoes\n",
    "shoe_sizes = list(map(int,input().split()))\n",
    "# print(shoe_sizes)\n",
    "N = int(input()) # no. of customers\n",
    "sum = 0\n",
    "for _ in range(N):\n",
    "    shoe_size_desired, x_i = map(int,input().split())\n",
    "    # print(shoe_size_desired, x_i)\n",
    "    if shoe_size_desired in shoe_sizes:\n",
    "        sum = sum + x_i\n",
    "        shoe_sizes.remove(shoe_size_desired)\n",
    "    # print(shoe_size_desired, x_i)\n",
    "print(sum)\n"
   ]
  },
  {
   "cell_type": "code",
   "execution_count": null,
   "metadata": {},
   "outputs": [],
   "source": [
    "# No Idea!\n",
    "# Enter your code here. Read input from STDIN. Print output to STDOUT\n",
    "n, m = map(int, input().split())\n",
    "array1 = map(int,input().split())\n",
    "setA = set(map(int,input().split()))\n",
    "setB = set(map(int,input().split()))\n",
    "# print(array1)\n",
    "# print(setA)\n",
    "# print(setB)\n",
    "# print(counter(array1))\n",
    "\n",
    "sum = 0\n",
    "for a in array1:\n",
    "    if a in setA:\n",
    "        sum=sum+1\n",
    "    if a in setB:\n",
    "        sum=sum-1\n",
    "print(sum)\n"
   ]
  },
  {
   "cell_type": "code",
   "execution_count": null,
   "metadata": {},
   "outputs": [],
   "source": [
    "#Symmetric Difference\n",
    "# Enter your code here. Read input from STDIN. Print output to STDOUT\n",
    "N1 = int(input())\n",
    "set1 = set(map(int,input().split()))\n",
    "# print(set1)\n",
    "N2 = int(input())\n",
    "set2 = set(map(int,input().split()))\n",
    "# print(set2)\n",
    "res = set1.symmetric_difference(set2)\n",
    "# print(res)\n",
    "res = list(res)\n",
    "# print(res)\n",
    "res.sort()\n",
    "# print(res)\n",
    "\n",
    "for no in res:\n",
    "    print(no)\n"
   ]
  },
  {
   "cell_type": "code",
   "execution_count": null,
   "metadata": {},
   "outputs": [],
   "source": [
    "# Introduction to Sets\n",
    "def average(array):\n",
    "    # your code goes here\n",
    "    return sum(set(array))/len(set(array))\n",
    "\n"
   ]
  },
  {
   "cell_type": "code",
   "execution_count": null,
   "metadata": {},
   "outputs": [],
   "source": [
    "# Alphabet Rangoli\n",
    "def print_rangoli(size):\n",
    "    # your code goes here\n",
    "    abc = \"abcdefghijklmnopqrstuvwxyz\" \n",
    "    myli = []\n",
    "    \n",
    "    indices = list(range(size))\n",
    "    indices2 = list(range(size-1,0,-1))\n",
    "    indices2.extend(indices)\n",
    "    \n",
    "    for k in indices2:  \n",
    "        substr = abc[size-1:k:-1] + abc[k:size]\n",
    "        print('-'.join(substr).center(size*2-1+2*size-2,'-'))\n",
    "    \n",
    "\n"
   ]
  },
  {
   "cell_type": "code",
   "execution_count": null,
   "metadata": {},
   "outputs": [],
   "source": [
    "# String Formatting\n",
    "\n",
    "def print_formatted(number):\n",
    "    breite = len(\"{0:b}\".format(number))\n",
    "    for i in range(number):\n",
    "        res = []\n",
    "        for k in 'doXb':\n",
    "            sample = \"{0:{breite}\"+k+\"}\"\n",
    "            res.append(sample.format(i+1, breite=breite))    \n",
    "        print(*res)\n",
    "        \n"
   ]
  },
  {
   "cell_type": "code",
   "execution_count": null,
   "metadata": {},
   "outputs": [],
   "source": [
    "# Designer Door Mat\n",
    "# Enter your code here. Read input from STDIN. Print output to STDOUT\n",
    "N, M = map(int,input().split())\n",
    "\n",
    "summy = \".|.\"\n",
    "sample = \".|.\"\n",
    "for i in range(N//2):\n",
    "    print(summy.center(M,\"-\"))\n",
    "    summy = sample + summy + sample\n",
    "\n",
    "print(\"WELCOME\".center(M,'-'))\n",
    "\n",
    "# print(list(reversed(range(N//2+1,N))))\n",
    "listy = []\n",
    "summy = \".|.\"\n",
    "sample = \".|.\"\n",
    "for i in range(N//2):\n",
    "    listy.append(summy.center(M,'-'))\n",
    "    summy = sample + summy + sample\n",
    "for i in reversed(listy):\n",
    "    print(i)\n"
   ]
  },
  {
   "cell_type": "code",
   "execution_count": null,
   "metadata": {},
   "outputs": [],
   "source": [
    "# Text Wrap\n",
    "def wrap(string, max_width):\n",
    "    res = \"\"\n",
    "    for i in range(len(string)//max_width+1):\n",
    "        res = res + string[max_width*i:max_width*(i+1)]+\"\\n\"\n",
    "         \n",
    "    return res\n"
   ]
  },
  {
   "cell_type": "code",
   "execution_count": null,
   "metadata": {},
   "outputs": [],
   "source": [
    "# String Validators\n",
    "if __name__ == '__main__':\n",
    "    s = input()\n",
    "    isAlphanumeric = False\n",
    "    isAlphabetical = False\n",
    "    isDigit = False\n",
    "    isLower = False\n",
    "    isUpper = False\n",
    "    for letter in s:\n",
    "        isAlphanumeric = isAlphanumeric or letter.isalnum()\n",
    "        isAlphabetical = isAlphabetical or letter.isalpha()\n",
    "        isDigit = isDigit or letter.isdigit()\n",
    "        isLower = isLower or letter.islower()\n",
    "        isUpper = isUpper or letter.isupper()\n",
    "        \n",
    "    print(isAlphanumeric)\n",
    "    print(isAlphabetical)\n",
    "    print(isDigit)\n",
    "    print(isLower)\n",
    "    print(isUpper)\n",
    "    \n"
   ]
  },
  {
   "cell_type": "code",
   "execution_count": null,
   "metadata": {},
   "outputs": [],
   "source": [
    "# Find a string\n",
    "def count_substring(string, sub_string):\n",
    "    i = 0\n",
    "    sum = 0\n",
    "    condition = True\n",
    "    while(condition):\n",
    "        i = string.find(sub_string,i, len(string))\n",
    "        if i == -1:\n",
    "            condition = False\n",
    "        else:\n",
    "            if i == len(string)-1:\n",
    "                condition = False\n",
    "            i = i+1\n",
    "            sum = sum + 1\n",
    "        \n",
    "    # print(string)\n",
    "    # print(sub_string)\n",
    "    \n",
    "    return sum\n",
    "\n"
   ]
  },
  {
   "cell_type": "code",
   "execution_count": null,
   "metadata": {},
   "outputs": [],
   "source": [
    "# Mutations\n",
    "def mutate_string(string, position, character):\n",
    "    return string[:position] + character + string[position+1:]"
   ]
  },
  {
   "cell_type": "code",
   "execution_count": null,
   "metadata": {},
   "outputs": [],
   "source": [
    "# What's Your Name?\n",
    "#\n",
    "# Complete the 'print_full_name' function below.\n",
    "#\n",
    "# The function is expected to return a STRING.\n",
    "# The function accepts following parameters:\n",
    "#  1. STRING first\n",
    "#  2. STRING last\n",
    "#\n",
    "\n",
    "def print_full_name(first, last):\n",
    "    # Write your code here\n",
    "    print(\"Hello \" + first + \" \" + last +\"!\" + \" \" + \"You just delved into python.\")\n"
   ]
  },
  {
   "cell_type": "code",
   "execution_count": null,
   "metadata": {},
   "outputs": [],
   "source": [
    "# String Split and Join\n",
    "def split_and_join(line):\n",
    "    # write your code here\n",
    "    return \"-\".join(line.split())\n",
    "\n",
    "if __name__ == '__main__':\n",
    "    line = input()\n",
    "    result = split_and_join(line)\n",
    "    print(result)\n",
    "\n",
    "\n"
   ]
  }
 ],
 "metadata": {
  "language_info": {
   "name": "python"
  },
  "orig_nbformat": 4
 },
 "nbformat": 4,
 "nbformat_minor": 2
}
